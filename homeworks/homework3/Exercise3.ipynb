{
 "cells": [
  {
   "cell_type": "markdown",
   "metadata": {},
   "source": [
    "# Homework 3 (Dev Mody)\n",
    "## Exercise 3 (Accessing UC Irvine Machine Learning Repository)\n",
    "\n",
    "The datasets from Exercise 1 and 2 can be obtained directly from the UC Irvine Machine Learning Repository at $\\texttt{https://archive.ics.uci.edu}$. If you later want to access datasets from the repository, it is useful to know how to do get to them which we will look at in this exercise. A small python package is available for accessing the datasets directly and putting them into pandas dataframes (see HW2). You need to install the package by executing\n",
    "\n",
    "```bash\n",
    "pip install ucimlrepo\n",
    "```\n",
    "In your python notebook you can now access the package:\n",
    "```bash\n",
    "from ucimlrepo import fetch_ucirepo\n",
    "```\n",
    "and the two datasets can be obtained using the commands:\n",
    "```python\n",
    "breastcancer = fetch_ucirepo(id=15)\n",
    "spambase = fetch_ucirepo(id=94)\n",
    "```\n",
    "We can then access the feature vectors and labels(tagets) using the following commands which will create pandas dataframes:\n",
    "```python\n",
    "X = breastcancer.data.features\n",
    "y = breastcancer.data.targets\n",
    "```\n",
    "\n",
    "### Exercise 3.1 (Drop Columns)\n",
    "For the breast cancer dataset, figure out the command to drop the column Single epithelial cell size from `X`.\n",
    "\n",
    "ANSWER: The command to drop the Single Epithelial Cell Size from `X` is as follows:"
   ]
  },
  {
   "cell_type": "code",
   "execution_count": 6,
   "metadata": {},
   "outputs": [
    {
     "name": "stdout",
     "output_type": "stream",
     "text": [
      "(699, 8)\n"
     ]
    }
   ],
   "source": [
    "from ucimlrepo import fetch_ucirepo\n",
    "import pandas as pd\n",
    "\n",
    "breastcancer = fetch_ucirepo(id=15)\n",
    "spambase = fetch_ucirepo(id=94)\n",
    "\n",
    "X = breastcancer.data.features\n",
    "y = breastcancer.data.targets\n",
    "\n",
    "X = X.drop(columns=['Single_epithelial_cell_size'])\n",
    "print(X.shape) ##Shows how the number of features went from 9 to 8"
   ]
  },
  {
   "cell_type": "markdown",
   "metadata": {},
   "source": [
    "### Exercise 3.2 (Mapping Values)\n",
    "\n",
    "Again, For the breast cancer dataset, figure out how to replace the value 2 and 4 for benign and malign with a 1 and -1.\n",
    "\n",
    "ANSWER: The replacement is as follows:"
   ]
  },
  {
   "cell_type": "code",
   "execution_count": 12,
   "metadata": {},
   "outputs": [
    {
     "name": "stdout",
     "output_type": "stream",
     "text": [
      "     Class\n",
      "0        1\n",
      "1        1\n",
      "2        1\n",
      "3        1\n",
      "4        1\n",
      "..     ...\n",
      "694      1\n",
      "695      1\n",
      "696     -1\n",
      "697     -1\n",
      "698     -1\n",
      "\n",
      "[699 rows x 1 columns]\n"
     ]
    }
   ],
   "source": [
    "y = y.replace({2: 1, 4: -1})\n",
    "print(y)"
   ]
  }
 ],
 "metadata": {
  "kernelspec": {
   "display_name": "hw1",
   "language": "python",
   "name": "python3"
  },
  "language_info": {
   "codemirror_mode": {
    "name": "ipython",
    "version": 3
   },
   "file_extension": ".py",
   "mimetype": "text/x-python",
   "name": "python",
   "nbconvert_exporter": "python",
   "pygments_lexer": "ipython3",
   "version": "3.8.12"
  }
 },
 "nbformat": 4,
 "nbformat_minor": 2
}
